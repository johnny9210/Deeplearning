{
 "cells": [
  {
   "cell_type": "markdown",
   "metadata": {
    "id": "0-h_fM4xTFa1"
   },
   "source": [
    "# 0. Install and Import Dependencies"
   ]
  },
  {
   "cell_type": "code",
   "execution_count": null,
   "metadata": {
    "id": "VB225eEWTFa7"
   },
   "outputs": [],
   "source": [
    "!pip install tensorflow==2.4.1 tensorflow-gpu==2.4.1 opencv-python matplotlib"
   ]
  },
  {
   "cell_type": "code",
   "execution_count": 1,
   "metadata": {
    "id": "mElLrhdyTFa9"
   },
   "outputs": [],
   "source": [
    "import tensorflow as tf\n",
    "import numpy as np\n",
    "from matplotlib import pyplot as plt\n",
    "import cv2"
   ]
  },
  {
   "cell_type": "markdown",
   "metadata": {
    "id": "ewkDuBCeTFa-"
   },
   "source": [
    "# 1. Load Model"
   ]
  },
  {
   "cell_type": "markdown",
   "metadata": {},
   "source": [
    "17개의 keypoints"
   ]
  },
  {
   "cell_type": "code",
   "execution_count": 7,
   "metadata": {
    "id": "sBdUOqgHTFa_"
   },
   "outputs": [],
   "source": [
    "interpreter = tf.lite.Interpreter(model_path='./lite-model_movenet_singlepose_lightning_3.tflite')\n",
    "interpreter.allocate_tensors()"
   ]
  },
  {
   "cell_type": "markdown",
   "metadata": {
    "id": "NpowMF4HTFbA"
   },
   "source": [
    "# 2. Make Detections"
   ]
  },
  {
   "cell_type": "markdown",
   "metadata": {},
   "source": [
    "keypoint ->>> [nose, left eye, right eye, left ear, right ear, left shoulder, right shoulder, left elbow, right elbow, left wrist, right wrist, left hip, right hip, left knee, right knee, left ankle, right ankle]"
   ]
  },
  {
   "cell_type": "markdown",
   "metadata": {},
   "source": [
    "Input_size = 192,192,3"
   ]
  },
  {
   "cell_type": "code",
   "execution_count": 24,
   "metadata": {},
   "outputs": [
    {
     "name": "stdout",
     "output_type": "stream",
     "text": [
      "1\n",
      "2\n",
      "3\n",
      "4\n",
      "5\n",
      "6\n",
      "7\n",
      "8\n",
      "9\n",
      "10\n",
      "11\n",
      "12\n",
      "13\n",
      "14\n",
      "15\n",
      "16\n",
      "17\n",
      "18\n",
      "19\n",
      "20\n",
      "21\n",
      "22\n",
      "23\n",
      "24\n",
      "25\n",
      "26\n",
      "27\n",
      "28\n",
      "29\n",
      "30\n",
      "31\n",
      "32\n",
      "33\n",
      "34\n",
      "35\n",
      "36\n",
      "37\n",
      "38\n",
      "39\n",
      "40\n"
     ]
    }
   ],
   "source": [
    "cap = cv2.VideoCapture(0)\n",
    "\n",
    "# Curl counter variables\n",
    "counter = 0 \n",
    "stage = None\n",
    "\n",
    "while cap.isOpened():\n",
    "    ret, frame = cap.read()\n",
    "    \n",
    "    # Reshape image\n",
    "    img = frame.copy()\n",
    "    img = tf.image.resize_with_pad(np.expand_dims(img,axis=0),192,192)\n",
    "    input_image = tf.cast(img,dtype=tf.float32)\n",
    "    \n",
    "    # Setup input and output \n",
    "    input_details = interpreter.get_input_details()\n",
    "    output_details = interpreter.get_output_details()\n",
    "    \n",
    "    # Make predictions \n",
    "    interpreter.set_tensor(input_details[0]['index'], np.array(input_image))\n",
    "    interpreter.invoke()\n",
    "    keypoints_with_scores = interpreter.get_tensor(output_details[0]['index'])\n",
    "\n",
    "#     print(keypoints_with_scores)\n",
    "    ### keypoints - 17개\n",
    "    \n",
    "    # Rendering\n",
    "    draw_connections(frame, keypoints_with_scores, EDGES, 0.4)\n",
    "    draw_keypoints(frame, keypoints_with_scores, 0.4)\n",
    "    \n",
    "    \n",
    "    # Extract landmarks\n",
    "    try:\n",
    "        right_shoulder = keypoints_with_scores[0][0][6][:2]\n",
    "        right_elbow = keypoints_with_scores[0][0][8][:2]\n",
    "        right_wrist = keypoints_with_scores[0][0][10][:2]\n",
    "        \n",
    "#         np.array(left_elbow[:2]*[480,640]).astype(int)\n",
    "        \n",
    "        # Calculate angle\n",
    "        angle = calculate_angle(right_shoulder, right_elbow, right_wrist)\n",
    "        \n",
    "        # Visualize angle\n",
    "        cv2.putText(frame, str(angle), \n",
    "                       tuple(np.multiply(right_elbow, [480,640]).astype(int)), \n",
    "                       cv2.FONT_HERSHEY_SIMPLEX, 0.5, (255, 255, 255), 2, cv2.LINE_AA\n",
    "                            )\n",
    "\n",
    "        # Curl counter logic\n",
    "        if angle>=90:\n",
    "            stage = 'up'\n",
    "            if angle ==90:\n",
    "                good+=1\n",
    "            else:\n",
    "                more+=1\n",
    "        \n",
    "        elif angle<=90\n",
    "        \n",
    "        \n",
    "        \n",
    "    except:\n",
    "        pass\n",
    "    \n",
    "    \n",
    "\n",
    "    cv2.rectangle(frame, (0,0), (225,73), (245,117,16),-1)\n",
    "    \n",
    "    # Rep data\n",
    "    cv2.putText(frame, 'REPS', (15,12), \n",
    "                cv2.FONT_HERSHEY_SIMPLEX, 0.5, (0,0,0), 1, cv2.LINE_AA)\n",
    "    cv2.putText(frame, str(counter), \n",
    "                (10,60), \n",
    "                cv2.FONT_HERSHEY_SIMPLEX, 2, (255,255,255), 2, cv2.LINE_AA)\n",
    "\n",
    "    # Stage data\n",
    "    cv2.putText(frame, 'STAGE', (65,12), \n",
    "                cv2.FONT_HERSHEY_SIMPLEX, 0.5, (0,0,0), 1, cv2.LINE_AA)\n",
    "    cv2.putText(frame, stage, \n",
    "                (60,60), \n",
    "                cv2.FONT_HERSHEY_SIMPLEX, 2, (255,255,255), 2, cv2.LINE_AA)\n",
    "\n",
    "\n",
    "    cv2.imshow('Movenet Lightning', frame)\n",
    "    \n",
    "    if cv2.waitKey(10) & 0xFF == ord('q'):\n",
    "        break\n",
    "        \n",
    "cap.release()\n",
    "cv2.destroyAllWindows()"
   ]
  },
  {
   "cell_type": "code",
   "execution_count": 65,
   "metadata": {},
   "outputs": [
    {
     "name": "stdout",
     "output_type": "stream",
     "text": [
      "1\n",
      "2\n",
      "3\n",
      "4\n",
      "5\n",
      "6\n",
      "7\n",
      "8\n",
      "9\n",
      "10\n",
      "11\n",
      "12\n",
      "13\n",
      "14\n",
      "15\n"
     ]
    }
   ],
   "source": [
    "cap = cv2.VideoCapture(0)\n",
    "good=[]\n",
    "good=0\n",
    "less=[]\n",
    "less=0\n",
    "more=[]\n",
    "more=0\n",
    "# Curl counter variables\n",
    "counter = 0 \n",
    "stage = None\n",
    "\n",
    "while cap.isOpened():\n",
    "    ret, frame = cap.read()\n",
    "    \n",
    "    # Reshape image\n",
    "    img = frame.copy()\n",
    "    img = tf.image.resize_with_pad(np.expand_dims(img,axis=0),192,192)\n",
    "    input_image = tf.cast(img,dtype=tf.float32)\n",
    "    \n",
    "    # Setup input and output \n",
    "    input_details = interpreter.get_input_details()\n",
    "    output_details = interpreter.get_output_details()\n",
    "    \n",
    "    # Make predictions \n",
    "    interpreter.set_tensor(input_details[0]['index'], np.array(input_image))\n",
    "    interpreter.invoke()\n",
    "    keypoints_with_scores = interpreter.get_tensor(output_details[0]['index'])\n",
    "\n",
    "#     print(keypoints_with_scores)\n",
    "    ### keypoints - 17개\n",
    "    \n",
    "    # Rendering\n",
    "    draw_connections(frame, keypoints_with_scores, EDGES, 0.4)\n",
    "    draw_keypoints(frame, keypoints_with_scores, 0.4)\n",
    "    \n",
    "    \n",
    "    # Extract landmarks\n",
    "    try:\n",
    "        right_shoulder = keypoints_with_scores[0][0][6][:2]\n",
    "        right_elbow = keypoints_with_scores[0][0][8][:2]\n",
    "        right_wrist = keypoints_with_scores[0][0][10][:2]\n",
    "        \n",
    "#         np.array(left_elbow[:2]*[480,640]).astype(int)\n",
    "        \n",
    "        # Calculate angle\n",
    "        angle = calculate_angle(right_shoulder, right_elbow, right_wrist)\n",
    "        \n",
    "        # Visualize angle\n",
    "        cv2.putText(frame, str(angle), \n",
    "                       tuple(np.multiply(right_elbow, [480,640]).astype(int)), \n",
    "                       cv2.FONT_HERSHEY_SIMPLEX, 0.5, (255, 255, 255), 2, cv2.LINE_AA\n",
    "                            )\n",
    "\n",
    "        # Curl counter logic     \n",
    "                \n",
    "        if angle<=90:\n",
    "            stage = \"up\"\n",
    "            \n",
    "        if angle >150 and stage =='up':\n",
    "            stage=\"down\"\n",
    "            \n",
    "            counter +=1\n",
    "            print(counter)\n",
    "\n",
    "    except:\n",
    "        pass\n",
    "    \n",
    "    \n",
    "\n",
    "    cv2.rectangle(frame, (0,0), (225,73), (245,117,16),-1)\n",
    "    \n",
    "    # Rep data\n",
    "    cv2.putText(frame, 'REPS', (15,12), \n",
    "                cv2.FONT_HERSHEY_SIMPLEX, 0.5, (0,0,0), 1, cv2.LINE_AA)\n",
    "    cv2.putText(frame, str(counter), \n",
    "                (10,60), \n",
    "                cv2.FONT_HERSHEY_SIMPLEX, 2, (255,255,255), 2, cv2.LINE_AA)\n",
    "\n",
    "    # Stage data\n",
    "    cv2.putText(frame, 'STAGE', (65,12), \n",
    "                cv2.FONT_HERSHEY_SIMPLEX, 0.5, (0,0,0), 1, cv2.LINE_AA)\n",
    "    cv2.putText(frame, stage, \n",
    "                (60,60), \n",
    "                cv2.FONT_HERSHEY_SIMPLEX, 2, (255,255,255), 2, cv2.LINE_AA)\n",
    "\n",
    "\n",
    "    cv2.imshow('Movenet Lightning', frame)\n",
    "    \n",
    "    if cv2.waitKey(10) & 0xFF == ord('q'):\n",
    "        break\n",
    "        \n",
    "cap.release()\n",
    "cv2.destroyAllWindows()"
   ]
  },
  {
   "cell_type": "code",
   "execution_count": 73,
   "metadata": {},
   "outputs": [],
   "source": [
    "cap = cv2.VideoCapture(0)\n",
    "good=[]\n",
    "good=0\n",
    "less=[]\n",
    "less=0\n",
    "more=[]\n",
    "more=0\n",
    "# Curl counter variables\n",
    "counter = 0 \n",
    "stage = None\n",
    "\n",
    "while cap.isOpened():\n",
    "    ret, frame = cap.read()\n",
    "    \n",
    "    # Reshape image\n",
    "    img = frame.copy()\n",
    "    img = tf.image.resize_with_pad(np.expand_dims(img,axis=0),192,192)\n",
    "    input_image = tf.cast(img,dtype=tf.float32)\n",
    "    \n",
    "    # Setup input and output \n",
    "    input_details = interpreter.get_input_details()\n",
    "    output_details = interpreter.get_output_details()\n",
    "    \n",
    "    # Make predictions \n",
    "    interpreter.set_tensor(input_details[0]['index'], np.array(input_image))\n",
    "    interpreter.invoke()\n",
    "    keypoints_with_scores = interpreter.get_tensor(output_details[0]['index'])\n",
    "\n",
    "#     print(keypoints_with_scores)\n",
    "    ### keypoints - 17개\n",
    "    \n",
    "    # Rendering\n",
    "    draw_connections(frame, keypoints_with_scores, EDGES, 0.4)\n",
    "    draw_keypoints(frame, keypoints_with_scores, 0.4)\n",
    "    \n",
    "    \n",
    "    # Extract landmarks\n",
    "    try:\n",
    "        right_shoulder = keypoints_with_scores[0][0][6][:2]\n",
    "        right_elbow = keypoints_with_scores[0][0][8][:2]\n",
    "        right_wrist = keypoints_with_scores[0][0][10][:2]\n",
    "        \n",
    "#         np.array(left_elbow[:2]*[480,640]).astype(int)\n",
    "        \n",
    "        # Calculate angle\n",
    "        angle = calculate_angle(right_shoulder, right_elbow, right_wrist)\n",
    "        \n",
    "        # Visualize angle\n",
    "        cv2.putText(frame, str(angle), \n",
    "                       tuple(np.multiply(right_elbow, [480,640]).astype(int)), \n",
    "                       cv2.FONT_HERSHEY_SIMPLEX, 0.5, (255, 255, 255), 2, cv2.LINE_AA\n",
    "                            )\n",
    "\n",
    "        # Curl counter logic     \n",
    "                \n",
    "        if angle<=90:\n",
    "            stage = \"up\"\n",
    "            if 85<=angle<=90:\n",
    "                good +=1\n",
    "            else:\n",
    "                more+=1\n",
    "        if angle >150 and stage =='up':\n",
    "            stage=\"down\"\n",
    "            \n",
    "            counter +=1\n",
    "            print(counter)\n",
    "\n",
    "    except:\n",
    "        pass\n",
    "    \n",
    "    \n",
    "\n",
    "    cv2.rectangle(frame, (0,0), (225,73), (245,117,16),-1)\n",
    "    \n",
    "    # Rep data\n",
    "    cv2.putText(frame, 'REPS', (15,12), \n",
    "                cv2.FONT_HERSHEY_SIMPLEX, 0.5, (0,0,0), 1, cv2.LINE_AA)\n",
    "    cv2.putText(frame, str(counter), \n",
    "                (10,60), \n",
    "                cv2.FONT_HERSHEY_SIMPLEX, 2, (255,255,255), 2, cv2.LINE_AA)\n",
    "\n",
    "    # Stage data\n",
    "    cv2.putText(frame, 'STAGE', (65,12), \n",
    "                cv2.FONT_HERSHEY_SIMPLEX, 0.5, (0,0,0), 1, cv2.LINE_AA)\n",
    "    cv2.putText(frame, stage, \n",
    "                (60,60), \n",
    "                cv2.FONT_HERSHEY_SIMPLEX, 2, (255,255,255), 2, cv2.LINE_AA)\n",
    "\n",
    "\n",
    "    cv2.imshow('Movenet Lightning', frame)\n",
    "    \n",
    "    if cv2.waitKey(10) & 0xFF == ord('q'):\n",
    "        break\n",
    "        \n",
    "cap.release()\n",
    "cv2.destroyAllWindows()"
   ]
  },
  {
   "cell_type": "code",
   "execution_count": 71,
   "metadata": {},
   "outputs": [
    {
     "data": {
      "text/plain": [
       "88"
      ]
     },
     "execution_count": 71,
     "metadata": {},
     "output_type": "execute_result"
    }
   ],
   "source": [
    "more"
   ]
  },
  {
   "cell_type": "markdown",
   "metadata": {
    "id": "CkCOfl4lTFbE"
   },
   "source": [
    "# 3. Draw Keypoints"
   ]
  },
  {
   "cell_type": "code",
   "execution_count": 9,
   "metadata": {
    "id": "lXwum-uqTFbF"
   },
   "outputs": [],
   "source": [
    "def draw_keypoints(frame, keypoints, confidence_threshold):\n",
    "    y, x, c = frame.shape\n",
    "    shaped = np.squeeze(np.multiply(keypoints, [y,x,1]))\n",
    "    \n",
    "    for kp in shaped:\n",
    "        ky, kx, kp_conf = kp\n",
    "        if kp_conf > confidence_threshold:\n",
    "            cv2.circle(frame, (int(kx), int(ky)), 4, (0,255,0), -1) "
   ]
  },
  {
   "cell_type": "markdown",
   "metadata": {
    "id": "XbKqeBs9TFbH"
   },
   "source": [
    "# 4. Draw Edges"
   ]
  },
  {
   "cell_type": "code",
   "execution_count": 10,
   "metadata": {
    "id": "rlsgUEyGTFbI"
   },
   "outputs": [],
   "source": [
    "EDGES = {\n",
    "    (0, 1): 'm',\n",
    "    (0, 2): 'c',\n",
    "    (1, 3): 'm',\n",
    "    (2, 4): 'c',\n",
    "    (0, 5): 'm',\n",
    "    (0, 6): 'c',\n",
    "    (5, 7): 'm',\n",
    "    (7, 9): 'm',\n",
    "    (6, 8): 'c',\n",
    "    (8, 10): 'c',\n",
    "    (5, 6): 'y',\n",
    "    (5, 11): 'm',\n",
    "    (6, 12): 'c',\n",
    "    (11, 12): 'y',\n",
    "    (11, 13): 'm',\n",
    "    (13, 15): 'm',\n",
    "    (12, 14): 'c',\n",
    "    (14, 16): 'c'\n",
    "}"
   ]
  },
  {
   "cell_type": "code",
   "execution_count": 11,
   "metadata": {
    "id": "8qkQ4r5yTFbI"
   },
   "outputs": [],
   "source": [
    "def draw_connections(frame, keypoints, edges, confidence_threshold):\n",
    "    y, x, c = frame.shape\n",
    "    shaped = np.squeeze(np.multiply(keypoints, [y,x,1]))\n",
    "    \n",
    "    for edge, color in edges.items():\n",
    "        p1, p2 = edge\n",
    "        y1, x1, c1 = shaped[p1]\n",
    "        y2, x2, c2 = shaped[p2]\n",
    "        \n",
    "        if (c1 > confidence_threshold) & (c2 > confidence_threshold):      \n",
    "            cv2.line(frame, (int(x1), int(y1)), (int(x2), int(y2)), (0,0,255), 2)"
   ]
  },
  {
   "cell_type": "code",
   "execution_count": 12,
   "metadata": {},
   "outputs": [],
   "source": [
    "def calculate_angle(a,b,c):\n",
    "    a = np.array(a) # First\n",
    "    b = np.array(b) # Mid\n",
    "    c = np.array(c) # End\n",
    "    \n",
    "    radians = np.arctan2(c[1]-b[1], c[0]-b[0]) - np.arctan2(a[1]-b[1], a[0]-b[0])\n",
    "    angle = np.abs(radians*180.0/np.pi)\n",
    "    \n",
    "    if angle >180.0:\n",
    "        angle = 360-angle\n",
    "        \n",
    "    return angle "
   ]
  },
  {
   "cell_type": "code",
   "execution_count": 14,
   "metadata": {},
   "outputs": [
    {
     "data": {
      "text/plain": [
       "array([[[[0.62034667, 0.5706886 , 0.47721198],\n",
       "         [0.5571848 , 0.62431073, 0.4480809 ],\n",
       "         [0.5413716 , 0.5087215 , 0.601863  ],\n",
       "         [0.614545  , 0.7014622 , 0.4975929 ],\n",
       "         [0.6025332 , 0.3822291 , 0.53288114],\n",
       "         [0.8418688 , 0.84162605, 0.3835594 ],\n",
       "         [0.8534938 , 0.20617676, 0.67648387],\n",
       "         [0.9620773 , 0.9496639 , 0.07047416],\n",
       "         [0.9609093 , 0.10293379, 0.06062253],\n",
       "         [0.84492606, 0.6358013 , 0.08204962],\n",
       "         [0.85907304, 0.41628522, 0.02849548],\n",
       "         [1.0063975 , 0.7890092 , 0.01776025],\n",
       "         [1.0093933 , 0.2629753 , 0.0164679 ],\n",
       "         [0.88727444, 0.95801115, 0.01617971],\n",
       "         [0.86292505, 0.19402473, 0.07703543],\n",
       "         [0.8453476 , 0.905396  , 0.01519643],\n",
       "         [0.57990485, 0.70246565, 0.01941759]]]], dtype=float32)"
      ]
     },
     "execution_count": 14,
     "metadata": {},
     "output_type": "execute_result"
    }
   ],
   "source": [
    "keypoints_with_scores"
   ]
  },
  {
   "cell_type": "code",
   "execution_count": 58,
   "metadata": {},
   "outputs": [],
   "source": [
    "def a(i):\n",
    "    more=[]\n",
    "    good=[]\n",
    "    more=0\n",
    "    good=0\n",
    "    for j in i:\n",
    "        if j>=90:\n",
    "            print('up')\n",
    "            if j==90:\n",
    "                good+=1\n",
    "                \n",
    "            else:\n",
    "                more+=1\n",
    "                \n",
    "    return good,more"
   ]
  },
  {
   "cell_type": "code",
   "execution_count": 61,
   "metadata": {},
   "outputs": [
    {
     "name": "stdout",
     "output_type": "stream",
     "text": [
      "up\n",
      "up\n",
      "up\n",
      "up\n"
     ]
    },
    {
     "data": {
      "text/plain": [
       "(1, 3)"
      ]
     },
     "execution_count": 61,
     "metadata": {},
     "output_type": "execute_result"
    }
   ],
   "source": [
    "a([90,100,101,102])"
   ]
  },
  {
   "cell_type": "code",
   "execution_count": null,
   "metadata": {},
   "outputs": [],
   "source": []
  }
 ],
 "metadata": {
  "accelerator": "GPU",
  "colab": {
   "name": "MoveNet Refined.ipynb",
   "provenance": []
  },
  "kernelspec": {
   "display_name": "Python 3",
   "language": "python",
   "name": "python3"
  },
  "language_info": {
   "codemirror_mode": {
    "name": "ipython",
    "version": 3
   },
   "file_extension": ".py",
   "mimetype": "text/x-python",
   "name": "python",
   "nbconvert_exporter": "python",
   "pygments_lexer": "ipython3",
   "version": "3.8.5"
  }
 },
 "nbformat": 4,
 "nbformat_minor": 1
}
